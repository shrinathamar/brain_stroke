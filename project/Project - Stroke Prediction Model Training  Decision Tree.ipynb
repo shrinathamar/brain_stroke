{
 "cells": [
  {
   "cell_type": "markdown",
   "id": "d276b6e0",
   "metadata": {},
   "source": [
    "## Notebook Imports:"
   ]
  },
  {
   "cell_type": "code",
   "execution_count": 1,
   "id": "18719e4c",
   "metadata": {},
   "outputs": [],
   "source": [
    "# Array and df operations :\n",
    "import pandas as pd\n",
    "import numpy as np\n",
    "\n",
    "# Visulization :\n",
    "import matplotlib.pyplot as plt\n",
    "import seaborn as sns\n",
    "import plotly.express as px\n",
    "\n",
    "# prprocessing :\n",
    "from sklearn.preprocessing import StandardScaler, MinMaxScaler\n",
    "from sklearn.model_selection import train_test_split, GridSearchCV, RandomizedSearchCV, cross_val_score\n",
    "\n",
    "# Model Agorithm :\n",
    "from sklearn.linear_model import LogisticRegression\n",
    "from sklearn.neighbors import KNeighborsClassifier\n",
    "from sklearn.tree import DecisionTreeClassifier\n",
    "from sklearn.ensemble import RandomForestClassifier\n",
    "from sklearn.ensemble import AdaBoostClassifier\n",
    "from sklearn.svm import SVC\n",
    "\n",
    "# Evaluation :\n",
    "from sklearn.metrics import confusion_matrix, classification_report, roc_auc_score, roc_curve, precision_recall_curve, precision_score\n",
    "from sklearn.metrics import precision_score, recall_score, f1_score\n",
    "import warnings\n",
    "warnings.filterwarnings(\"ignore\")"
   ]
  },
  {
   "cell_type": "code",
   "execution_count": 2,
   "id": "9b0af8e7",
   "metadata": {},
   "outputs": [
    {
     "data": {
      "text/html": [
       "<div>\n",
       "<style scoped>\n",
       "    .dataframe tbody tr th:only-of-type {\n",
       "        vertical-align: middle;\n",
       "    }\n",
       "\n",
       "    .dataframe tbody tr th {\n",
       "        vertical-align: top;\n",
       "    }\n",
       "\n",
       "    .dataframe thead th {\n",
       "        text-align: right;\n",
       "    }\n",
       "</style>\n",
       "<table border=\"1\" class=\"dataframe\">\n",
       "  <thead>\n",
       "    <tr style=\"text-align: right;\">\n",
       "      <th></th>\n",
       "      <th>gender</th>\n",
       "      <th>age</th>\n",
       "      <th>hypertension</th>\n",
       "      <th>heart_disease</th>\n",
       "      <th>ever_married</th>\n",
       "      <th>Residence_type</th>\n",
       "      <th>avg_glucose_level</th>\n",
       "      <th>bmi</th>\n",
       "      <th>smoking_status</th>\n",
       "      <th>stroke</th>\n",
       "      <th>work_type_Govt_job</th>\n",
       "      <th>work_type_Never_worked</th>\n",
       "      <th>work_type_Private</th>\n",
       "      <th>work_type_Self-employed</th>\n",
       "      <th>work_type_children</th>\n",
       "    </tr>\n",
       "  </thead>\n",
       "  <tbody>\n",
       "    <tr>\n",
       "      <th>0</th>\n",
       "      <td>1</td>\n",
       "      <td>67.0</td>\n",
       "      <td>0</td>\n",
       "      <td>1</td>\n",
       "      <td>1</td>\n",
       "      <td>1</td>\n",
       "      <td>228.69</td>\n",
       "      <td>36.600000</td>\n",
       "      <td>1</td>\n",
       "      <td>1</td>\n",
       "      <td>0</td>\n",
       "      <td>0</td>\n",
       "      <td>1</td>\n",
       "      <td>0</td>\n",
       "      <td>0</td>\n",
       "    </tr>\n",
       "    <tr>\n",
       "      <th>1</th>\n",
       "      <td>0</td>\n",
       "      <td>61.0</td>\n",
       "      <td>0</td>\n",
       "      <td>0</td>\n",
       "      <td>1</td>\n",
       "      <td>0</td>\n",
       "      <td>202.21</td>\n",
       "      <td>29.065758</td>\n",
       "      <td>0</td>\n",
       "      <td>1</td>\n",
       "      <td>0</td>\n",
       "      <td>0</td>\n",
       "      <td>0</td>\n",
       "      <td>1</td>\n",
       "      <td>0</td>\n",
       "    </tr>\n",
       "    <tr>\n",
       "      <th>2</th>\n",
       "      <td>1</td>\n",
       "      <td>80.0</td>\n",
       "      <td>0</td>\n",
       "      <td>1</td>\n",
       "      <td>1</td>\n",
       "      <td>0</td>\n",
       "      <td>105.92</td>\n",
       "      <td>32.500000</td>\n",
       "      <td>0</td>\n",
       "      <td>1</td>\n",
       "      <td>0</td>\n",
       "      <td>0</td>\n",
       "      <td>1</td>\n",
       "      <td>0</td>\n",
       "      <td>0</td>\n",
       "    </tr>\n",
       "    <tr>\n",
       "      <th>3</th>\n",
       "      <td>0</td>\n",
       "      <td>49.0</td>\n",
       "      <td>0</td>\n",
       "      <td>0</td>\n",
       "      <td>1</td>\n",
       "      <td>1</td>\n",
       "      <td>171.23</td>\n",
       "      <td>34.400000</td>\n",
       "      <td>2</td>\n",
       "      <td>1</td>\n",
       "      <td>0</td>\n",
       "      <td>0</td>\n",
       "      <td>1</td>\n",
       "      <td>0</td>\n",
       "      <td>0</td>\n",
       "    </tr>\n",
       "    <tr>\n",
       "      <th>4</th>\n",
       "      <td>0</td>\n",
       "      <td>79.0</td>\n",
       "      <td>1</td>\n",
       "      <td>0</td>\n",
       "      <td>1</td>\n",
       "      <td>0</td>\n",
       "      <td>174.12</td>\n",
       "      <td>24.000000</td>\n",
       "      <td>0</td>\n",
       "      <td>1</td>\n",
       "      <td>0</td>\n",
       "      <td>0</td>\n",
       "      <td>0</td>\n",
       "      <td>1</td>\n",
       "      <td>0</td>\n",
       "    </tr>\n",
       "  </tbody>\n",
       "</table>\n",
       "</div>"
      ],
      "text/plain": [
       "   gender   age  hypertension  heart_disease  ever_married  Residence_type  \\\n",
       "0       1  67.0             0              1             1               1   \n",
       "1       0  61.0             0              0             1               0   \n",
       "2       1  80.0             0              1             1               0   \n",
       "3       0  49.0             0              0             1               1   \n",
       "4       0  79.0             1              0             1               0   \n",
       "\n",
       "   avg_glucose_level        bmi  smoking_status  stroke  work_type_Govt_job  \\\n",
       "0             228.69  36.600000               1       1                   0   \n",
       "1             202.21  29.065758               0       1                   0   \n",
       "2             105.92  32.500000               0       1                   0   \n",
       "3             171.23  34.400000               2       1                   0   \n",
       "4             174.12  24.000000               0       1                   0   \n",
       "\n",
       "   work_type_Never_worked  work_type_Private  work_type_Self-employed  \\\n",
       "0                       0                  1                        0   \n",
       "1                       0                  0                        1   \n",
       "2                       0                  1                        0   \n",
       "3                       0                  1                        0   \n",
       "4                       0                  0                        1   \n",
       "\n",
       "   work_type_children  \n",
       "0                   0  \n",
       "1                   0  \n",
       "2                   0  \n",
       "3                   0  \n",
       "4                   0  "
      ]
     },
     "execution_count": 2,
     "metadata": {},
     "output_type": "execute_result"
    }
   ],
   "source": [
    "df = pd.read_csv(\"numerical_df.csv\")\n",
    "df.head()"
   ]
  },
  {
   "cell_type": "code",
   "execution_count": 3,
   "id": "55b37dc4",
   "metadata": {},
   "outputs": [
    {
     "data": {
      "text/plain": [
       "0    4860\n",
       "1     249\n",
       "Name: stroke, dtype: int64"
      ]
     },
     "execution_count": 3,
     "metadata": {},
     "output_type": "execute_result"
    }
   ],
   "source": [
    "df[\"stroke\"].value_counts()"
   ]
  },
  {
   "cell_type": "code",
   "execution_count": 4,
   "id": "b8f86a90",
   "metadata": {},
   "outputs": [],
   "source": [
    "from imblearn.over_sampling import SMOTE\n"
   ]
  },
  {
   "cell_type": "code",
   "execution_count": 5,
   "id": "09871de8",
   "metadata": {},
   "outputs": [],
   "source": [
    "x = df.drop(\"stroke\", axis=1)\n",
    "y = df[\"stroke\"]\n",
    "\n",
    "smot = SMOTE(sampling_strategy=0.7)\n",
    "x_sample, y_sample = smot.fit_resample(x, y)"
   ]
  },
  {
   "cell_type": "code",
   "execution_count": 7,
   "id": "6cfff195",
   "metadata": {},
   "outputs": [
    {
     "data": {
      "text/plain": [
       "0    4860\n",
       "1    3402\n",
       "Name: stroke, dtype: int64"
      ]
     },
     "execution_count": 7,
     "metadata": {},
     "output_type": "execute_result"
    }
   ],
   "source": [
    "y_sample.value_counts()"
   ]
  },
  {
   "cell_type": "code",
   "execution_count": 8,
   "id": "0fb29894",
   "metadata": {},
   "outputs": [],
   "source": [
    "x_train, x_test, y_train, y_test = train_test_split(x_sample, y_sample, test_size=0.2,  stratify=y_sample, random_state=40)"
   ]
  },
  {
   "cell_type": "code",
   "execution_count": 9,
   "id": "7a4edf82",
   "metadata": {},
   "outputs": [
    {
     "name": "stdout",
     "output_type": "stream",
     "text": [
      "[[3888    0]\n",
      " [   0 2721]]\n",
      "              precision    recall  f1-score   support\n",
      "\n",
      "           0       1.00      1.00      1.00      3888\n",
      "           1       1.00      1.00      1.00      2721\n",
      "\n",
      "    accuracy                           1.00      6609\n",
      "   macro avg       1.00      1.00      1.00      6609\n",
      "weighted avg       1.00      1.00      1.00      6609\n",
      "\n",
      "\n",
      "[[883  89]\n",
      " [ 62 619]]\n",
      "              precision    recall  f1-score   support\n",
      "\n",
      "           0       0.93      0.91      0.92       972\n",
      "           1       0.87      0.91      0.89       681\n",
      "\n",
      "    accuracy                           0.91      1653\n",
      "   macro avg       0.90      0.91      0.91      1653\n",
      "weighted avg       0.91      0.91      0.91      1653\n",
      "\n"
     ]
    }
   ],
   "source": [
    "dt_model = DecisionTreeClassifier()\n",
    "dt_model.fit(x_train, y_train)\n",
    "\n",
    "# For Training :\n",
    "y_pred_train = dt_model.predict(x_train)\n",
    "conf_matrix = confusion_matrix(y_train, y_pred_train)\n",
    "class_report = classification_report(y_train, y_pred_train)\n",
    "print(conf_matrix)\n",
    "print(class_report)\n",
    "\n",
    "print()\n",
    "\n",
    "# For Testing :\n",
    "y_pred_test = dt_model.predict(x_test)\n",
    "conf_matrix = confusion_matrix(y_test, y_pred_test)\n",
    "class_report = classification_report(y_test, y_pred_test)\n",
    "print(conf_matrix)\n",
    "print(class_report)"
   ]
  },
  {
   "cell_type": "code",
   "execution_count": null,
   "id": "cc8843ab",
   "metadata": {},
   "outputs": [],
   "source": []
  },
  {
   "cell_type": "code",
   "execution_count": 10,
   "id": "ac7d35ee",
   "metadata": {},
   "outputs": [
    {
     "data": {
      "text/plain": [
       "(27, 1035, 14)"
      ]
     },
     "execution_count": 10,
     "metadata": {},
     "output_type": "execute_result"
    }
   ],
   "source": [
    "dt_model.tree_.max_depth, dt_model.tree_.node_count, dt_model.tree_.n_features"
   ]
  },
  {
   "cell_type": "code",
   "execution_count": 11,
   "id": "262920b0",
   "metadata": {},
   "outputs": [
    {
     "data": {
      "text/plain": [
       "array([0.02067467, 0.43556369, 0.01011342, 0.01083093, 0.02344822,\n",
       "       0.01741876, 0.14863937, 0.11881366, 0.02172094, 0.0431502 ,\n",
       "       0.00059868, 0.09543031, 0.05220316, 0.00139399])"
      ]
     },
     "execution_count": 11,
     "metadata": {},
     "output_type": "execute_result"
    }
   ],
   "source": [
    "dt_model.feature_importances_"
   ]
  },
  {
   "cell_type": "code",
   "execution_count": 12,
   "id": "b9166465",
   "metadata": {},
   "outputs": [
    {
     "data": {
      "text/html": [
       "<div>\n",
       "<style scoped>\n",
       "    .dataframe tbody tr th:only-of-type {\n",
       "        vertical-align: middle;\n",
       "    }\n",
       "\n",
       "    .dataframe tbody tr th {\n",
       "        vertical-align: top;\n",
       "    }\n",
       "\n",
       "    .dataframe thead th {\n",
       "        text-align: right;\n",
       "    }\n",
       "</style>\n",
       "<table border=\"1\" class=\"dataframe\">\n",
       "  <thead>\n",
       "    <tr style=\"text-align: right;\">\n",
       "      <th></th>\n",
       "      <th>0</th>\n",
       "    </tr>\n",
       "  </thead>\n",
       "  <tbody>\n",
       "    <tr>\n",
       "      <th>gender</th>\n",
       "      <td>0.020675</td>\n",
       "    </tr>\n",
       "    <tr>\n",
       "      <th>age</th>\n",
       "      <td>0.435564</td>\n",
       "    </tr>\n",
       "    <tr>\n",
       "      <th>hypertension</th>\n",
       "      <td>0.010113</td>\n",
       "    </tr>\n",
       "    <tr>\n",
       "      <th>heart_disease</th>\n",
       "      <td>0.010831</td>\n",
       "    </tr>\n",
       "    <tr>\n",
       "      <th>ever_married</th>\n",
       "      <td>0.023448</td>\n",
       "    </tr>\n",
       "    <tr>\n",
       "      <th>Residence_type</th>\n",
       "      <td>0.017419</td>\n",
       "    </tr>\n",
       "    <tr>\n",
       "      <th>avg_glucose_level</th>\n",
       "      <td>0.148639</td>\n",
       "    </tr>\n",
       "    <tr>\n",
       "      <th>bmi</th>\n",
       "      <td>0.118814</td>\n",
       "    </tr>\n",
       "    <tr>\n",
       "      <th>smoking_status</th>\n",
       "      <td>0.021721</td>\n",
       "    </tr>\n",
       "    <tr>\n",
       "      <th>work_type_Govt_job</th>\n",
       "      <td>0.043150</td>\n",
       "    </tr>\n",
       "    <tr>\n",
       "      <th>work_type_Never_worked</th>\n",
       "      <td>0.000599</td>\n",
       "    </tr>\n",
       "    <tr>\n",
       "      <th>work_type_Private</th>\n",
       "      <td>0.095430</td>\n",
       "    </tr>\n",
       "    <tr>\n",
       "      <th>work_type_Self-employed</th>\n",
       "      <td>0.052203</td>\n",
       "    </tr>\n",
       "    <tr>\n",
       "      <th>work_type_children</th>\n",
       "      <td>0.001394</td>\n",
       "    </tr>\n",
       "  </tbody>\n",
       "</table>\n",
       "</div>"
      ],
      "text/plain": [
       "                                0\n",
       "gender                   0.020675\n",
       "age                      0.435564\n",
       "hypertension             0.010113\n",
       "heart_disease            0.010831\n",
       "ever_married             0.023448\n",
       "Residence_type           0.017419\n",
       "avg_glucose_level        0.148639\n",
       "bmi                      0.118814\n",
       "smoking_status           0.021721\n",
       "work_type_Govt_job       0.043150\n",
       "work_type_Never_worked   0.000599\n",
       "work_type_Private        0.095430\n",
       "work_type_Self-employed  0.052203\n",
       "work_type_children       0.001394"
      ]
     },
     "execution_count": 12,
     "metadata": {},
     "output_type": "execute_result"
    }
   ],
   "source": [
    "pd.DataFrame(dt_model.feature_importances_, index=x_sample.columns)"
   ]
  },
  {
   "cell_type": "markdown",
   "id": "ebcdd7c0",
   "metadata": {},
   "source": [
    "## Hyperparameter tunning :"
   ]
  },
  {
   "cell_type": "code",
   "execution_count": 18,
   "id": "dc861c28",
   "metadata": {},
   "outputs": [
    {
     "data": {
      "text/html": [
       "<style>#sk-container-id-1 {color: black;background-color: white;}#sk-container-id-1 pre{padding: 0;}#sk-container-id-1 div.sk-toggleable {background-color: white;}#sk-container-id-1 label.sk-toggleable__label {cursor: pointer;display: block;width: 100%;margin-bottom: 0;padding: 0.3em;box-sizing: border-box;text-align: center;}#sk-container-id-1 label.sk-toggleable__label-arrow:before {content: \"▸\";float: left;margin-right: 0.25em;color: #696969;}#sk-container-id-1 label.sk-toggleable__label-arrow:hover:before {color: black;}#sk-container-id-1 div.sk-estimator:hover label.sk-toggleable__label-arrow:before {color: black;}#sk-container-id-1 div.sk-toggleable__content {max-height: 0;max-width: 0;overflow: hidden;text-align: left;background-color: #f0f8ff;}#sk-container-id-1 div.sk-toggleable__content pre {margin: 0.2em;color: black;border-radius: 0.25em;background-color: #f0f8ff;}#sk-container-id-1 input.sk-toggleable__control:checked~div.sk-toggleable__content {max-height: 200px;max-width: 100%;overflow: auto;}#sk-container-id-1 input.sk-toggleable__control:checked~label.sk-toggleable__label-arrow:before {content: \"▾\";}#sk-container-id-1 div.sk-estimator input.sk-toggleable__control:checked~label.sk-toggleable__label {background-color: #d4ebff;}#sk-container-id-1 div.sk-label input.sk-toggleable__control:checked~label.sk-toggleable__label {background-color: #d4ebff;}#sk-container-id-1 input.sk-hidden--visually {border: 0;clip: rect(1px 1px 1px 1px);clip: rect(1px, 1px, 1px, 1px);height: 1px;margin: -1px;overflow: hidden;padding: 0;position: absolute;width: 1px;}#sk-container-id-1 div.sk-estimator {font-family: monospace;background-color: #f0f8ff;border: 1px dotted black;border-radius: 0.25em;box-sizing: border-box;margin-bottom: 0.5em;}#sk-container-id-1 div.sk-estimator:hover {background-color: #d4ebff;}#sk-container-id-1 div.sk-parallel-item::after {content: \"\";width: 100%;border-bottom: 1px solid gray;flex-grow: 1;}#sk-container-id-1 div.sk-label:hover label.sk-toggleable__label {background-color: #d4ebff;}#sk-container-id-1 div.sk-serial::before {content: \"\";position: absolute;border-left: 1px solid gray;box-sizing: border-box;top: 0;bottom: 0;left: 50%;z-index: 0;}#sk-container-id-1 div.sk-serial {display: flex;flex-direction: column;align-items: center;background-color: white;padding-right: 0.2em;padding-left: 0.2em;position: relative;}#sk-container-id-1 div.sk-item {position: relative;z-index: 1;}#sk-container-id-1 div.sk-parallel {display: flex;align-items: stretch;justify-content: center;background-color: white;position: relative;}#sk-container-id-1 div.sk-item::before, #sk-container-id-1 div.sk-parallel-item::before {content: \"\";position: absolute;border-left: 1px solid gray;box-sizing: border-box;top: 0;bottom: 0;left: 50%;z-index: -1;}#sk-container-id-1 div.sk-parallel-item {display: flex;flex-direction: column;z-index: 1;position: relative;background-color: white;}#sk-container-id-1 div.sk-parallel-item:first-child::after {align-self: flex-end;width: 50%;}#sk-container-id-1 div.sk-parallel-item:last-child::after {align-self: flex-start;width: 50%;}#sk-container-id-1 div.sk-parallel-item:only-child::after {width: 0;}#sk-container-id-1 div.sk-dashed-wrapped {border: 1px dashed gray;margin: 0 0.4em 0.5em 0.4em;box-sizing: border-box;padding-bottom: 0.4em;background-color: white;}#sk-container-id-1 div.sk-label label {font-family: monospace;font-weight: bold;display: inline-block;line-height: 1.2em;}#sk-container-id-1 div.sk-label-container {text-align: center;}#sk-container-id-1 div.sk-container {/* jupyter's `normalize.less` sets `[hidden] { display: none; }` but bootstrap.min.css set `[hidden] { display: none !important; }` so we also need the `!important` here to be able to override the default hidden behavior on the sphinx rendered scikit-learn.org. See: https://github.com/scikit-learn/scikit-learn/issues/21755 */display: inline-block !important;position: relative;}#sk-container-id-1 div.sk-text-repr-fallback {display: none;}</style><div id=\"sk-container-id-1\" class=\"sk-top-container\"><div class=\"sk-text-repr-fallback\"><pre>DecisionTreeClassifier(criterion=&#x27;entropy&#x27;, max_depth=20, min_samples_leaf=2,\n",
       "                       random_state=40)</pre><b>In a Jupyter environment, please rerun this cell to show the HTML representation or trust the notebook. <br />On GitHub, the HTML representation is unable to render, please try loading this page with nbviewer.org.</b></div><div class=\"sk-container\" hidden><div class=\"sk-item\"><div class=\"sk-estimator sk-toggleable\"><input class=\"sk-toggleable__control sk-hidden--visually\" id=\"sk-estimator-id-1\" type=\"checkbox\" checked><label for=\"sk-estimator-id-1\" class=\"sk-toggleable__label sk-toggleable__label-arrow\">DecisionTreeClassifier</label><div class=\"sk-toggleable__content\"><pre>DecisionTreeClassifier(criterion=&#x27;entropy&#x27;, max_depth=20, min_samples_leaf=2,\n",
       "                       random_state=40)</pre></div></div></div></div></div>"
      ],
      "text/plain": [
       "DecisionTreeClassifier(criterion='entropy', max_depth=20, min_samples_leaf=2,\n",
       "                       random_state=40)"
      ]
     },
     "execution_count": 18,
     "metadata": {},
     "output_type": "execute_result"
    }
   ],
   "source": [
    "estimator = DecisionTreeClassifier()\n",
    "params = {\"criterion\":['gini', \"entropy\"],\n",
    "         \"min_samples_split\":np.arange(2, 4),\n",
    "         \"min_samples_leaf\":np.arange(2, 8),\n",
    "         \"max_depth\":np.arange(18, 24),\n",
    "         \"random_state\":[40, 45]}\n",
    "\n",
    "gscv = GridSearchCV(estimator, params, cv=5)\n",
    "gscv.fit(x_train, y_train)\n",
    "\n",
    "gscv.best_estimator_"
   ]
  },
  {
   "cell_type": "code",
   "execution_count": 19,
   "id": "62ab496c",
   "metadata": {},
   "outputs": [
    {
     "name": "stdout",
     "output_type": "stream",
     "text": [
      "[[3862   26]\n",
      " [  87 2634]]\n",
      "              precision    recall  f1-score   support\n",
      "\n",
      "           0       0.98      0.99      0.99      3888\n",
      "           1       0.99      0.97      0.98      2721\n",
      "\n",
      "    accuracy                           0.98      6609\n",
      "   macro avg       0.98      0.98      0.98      6609\n",
      "weighted avg       0.98      0.98      0.98      6609\n",
      "\n",
      "\n",
      "[[900  72]\n",
      " [ 82 599]]\n",
      "              precision    recall  f1-score   support\n",
      "\n",
      "           0       0.92      0.93      0.92       972\n",
      "           1       0.89      0.88      0.89       681\n",
      "\n",
      "    accuracy                           0.91      1653\n",
      "   macro avg       0.90      0.90      0.90      1653\n",
      "weighted avg       0.91      0.91      0.91      1653\n",
      "\n"
     ]
    }
   ],
   "source": [
    "dt_model = DecisionTreeClassifier(criterion='entropy', max_depth=20, min_samples_leaf=2,\n",
    "                       random_state=40)\n",
    "dt_model.fit(x_train, y_train)\n",
    "\n",
    "# For Training :\n",
    "y_pred_train = dt_model.predict(x_train)\n",
    "conf_matrix = confusion_matrix(y_train, y_pred_train)\n",
    "class_report = classification_report(y_train, y_pred_train)\n",
    "print(conf_matrix)\n",
    "print(class_report)\n",
    "\n",
    "print()\n",
    "\n",
    "# For Testing :\n",
    "y_pred_test = dt_model.predict(x_test)\n",
    "conf_matrix = confusion_matrix(y_test, y_pred_test)\n",
    "class_report = classification_report(y_test, y_pred_test)\n",
    "print(conf_matrix)\n",
    "print(class_report)\n"
   ]
  },
  {
   "cell_type": "markdown",
   "id": "e2534ece",
   "metadata": {},
   "source": [
    "## Prunning "
   ]
  },
  {
   "cell_type": "code",
   "execution_count": 20,
   "id": "b28d6837",
   "metadata": {},
   "outputs": [],
   "source": [
    "ccp_results = dt_model.cost_complexity_pruning_path(x_train, y_train)\n",
    "ccp_alpha_list = ccp_results[\"ccp_alphas\"]"
   ]
  },
  {
   "cell_type": "code",
   "execution_count": 21,
   "id": "74fcb5d1",
   "metadata": {},
   "outputs": [],
   "source": [
    "train_acc = []\n",
    "test_acc = []\n",
    "num_nodes = []\n",
    "ccp_values = []\n",
    "\n",
    "for i in ccp_alpha_list:\n",
    "    clf = DecisionTreeClassifier(random_state=40, ccp_alpha=i)\n",
    "    clf.fit(x_train, y_train)\n",
    "    train_acc.append(clf.score(x_train, y_train))\n",
    "    test_acc.append(clf.score(x_test, y_test))\n",
    "    num_nodes.append(clf.tree_.node_count)"
   ]
  },
  {
   "cell_type": "code",
   "execution_count": 30,
   "id": "b1111c36",
   "metadata": {},
   "outputs": [
    {
     "data": {
      "text/plain": [
       "array([20, 21, 22, 23, 24, 25, 26, 27, 28, 29, 30, 42, 43, 45, 46, 47, 48,\n",
       "       49, 50, 51, 52, 53, 54, 55, 56, 57, 58], dtype=int64)"
      ]
     },
     "execution_count": 30,
     "metadata": {},
     "output_type": "execute_result"
    }
   ],
   "source": [
    "idx = np.where(test_acc == np.max(test_acc))\n",
    "idx[0]"
   ]
  },
  {
   "cell_type": "code",
   "execution_count": 31,
   "id": "e3926381",
   "metadata": {},
   "outputs": [
    {
     "name": "stdout",
     "output_type": "stream",
     "text": [
      "0.9225650332728372 0.9807837796943562 --> 20\n",
      "0.9225650332728372 0.9807837796943562 --> 21\n",
      "0.9225650332728372 0.9807837796943562 --> 22\n",
      "0.9225650332728372 0.9807837796943562 --> 23\n",
      "0.9225650332728372 0.9807837796943562 --> 24\n",
      "0.9225650332728372 0.9807837796943562 --> 25\n",
      "0.9225650332728372 0.9807837796943562 --> 26\n",
      "0.9225650332728372 0.9807837796943562 --> 27\n",
      "0.9225650332728372 0.9807837796943562 --> 28\n",
      "0.9225650332728372 0.9807837796943562 --> 29\n",
      "0.9225650332728372 0.9807837796943562 --> 30\n",
      "0.9225650332728372 0.9698895445604478 --> 42\n",
      "0.9225650332728372 0.9698895445604478 --> 43\n",
      "0.9225650332728372 0.9685277651687093 --> 45\n",
      "0.9225650332728372 0.9685277651687093 --> 46\n",
      "0.9225650332728372 0.9679225298834923 --> 47\n",
      "0.9225650332728372 0.9679225298834923 --> 48\n",
      "0.9225650332728372 0.9679225298834923 --> 49\n",
      "0.9225650332728372 0.9679225298834923 --> 50\n",
      "0.9225650332728372 0.9679225298834923 --> 51\n",
      "0.9225650332728372 0.9674686034195794 --> 52\n",
      "0.9225650332728372 0.9671659857769708 --> 53\n",
      "0.9225650332728372 0.9671659857769708 --> 54\n",
      "0.9225650332728372 0.9671659857769708 --> 55\n",
      "0.9225650332728372 0.9671659857769708 --> 56\n",
      "0.9225650332728372 0.9671659857769708 --> 57\n",
      "0.9225650332728372 0.9671659857769708 --> 58\n"
     ]
    }
   ],
   "source": [
    "for i in idx[0]:\n",
    "    print(test_acc[i], train_acc[i], \"-->\", i)"
   ]
  },
  {
   "cell_type": "code",
   "execution_count": 33,
   "id": "2220d387",
   "metadata": {},
   "outputs": [
    {
     "data": {
      "image/png": "[encoded data removed]",
      "text/plain": [
       "<Figure size 640x480 with 1 Axes>"
      ]
     },
     "metadata": {},
     "output_type": "display_data"
    }
   ],
   "source": [
    "plt.plot(ccp_alpha_list, train_acc, label=\"train_acc\")\n",
    "plt.plot(ccp_alpha_list, test_acc, label=\"test_acc\")\n",
    "plt.legend()\n",
    "plt.show()"
   ]
  },
  {
   "cell_type": "code",
   "execution_count": 36,
   "id": "d1fc2da0",
   "metadata": {},
   "outputs": [
    {
     "data": {
      "text/plain": [
       "(0.0003527430511449319, 0.9225650332728372)"
      ]
     },
     "execution_count": 36,
     "metadata": {},
     "output_type": "execute_result"
    }
   ],
   "source": [
    "ccp_alpha_list[53], test_acc[53]"
   ]
  },
  {
   "cell_type": "code",
   "execution_count": 13,
   "id": "b6b15c52",
   "metadata": {},
   "outputs": [
    {
     "name": "stdout",
     "output_type": "stream",
     "text": [
      "[[3756  132]\n",
      " [ 118 2603]]\n",
      "              precision    recall  f1-score   support\n",
      "\n",
      "           0       0.97      0.97      0.97      3888\n",
      "           1       0.95      0.96      0.95      2721\n",
      "\n",
      "    accuracy                           0.96      6609\n",
      "   macro avg       0.96      0.96      0.96      6609\n",
      "weighted avg       0.96      0.96      0.96      6609\n",
      "\n",
      "\n",
      "[[891  81]\n",
      " [ 67 614]]\n",
      "              precision    recall  f1-score   support\n",
      "\n",
      "           0       0.93      0.92      0.92       972\n",
      "           1       0.88      0.90      0.89       681\n",
      "\n",
      "    accuracy                           0.91      1653\n",
      "   macro avg       0.91      0.91      0.91      1653\n",
      "weighted avg       0.91      0.91      0.91      1653\n",
      "\n"
     ]
    }
   ],
   "source": [
    "dt_model = DecisionTreeClassifier(ccp_alpha=0.0003527430511449319, random_state=40)\n",
    "dt_model.fit(x_train, y_train)\n",
    "\n",
    "# For Training :\n",
    "y_pred_train = dt_model.predict(x_train)\n",
    "conf_matrix = confusion_matrix(y_train, y_pred_train)\n",
    "class_report = classification_report(y_train, y_pred_train)\n",
    "print(conf_matrix)\n",
    "print(class_report)\n",
    "print()\n",
    "\n",
    "# For Testing :\n",
    "y_pred_test = dt_model.predict(x_test)\n",
    "conf_matrix = confusion_matrix(y_test, y_pred_test)\n",
    "class_report = classification_report(y_test, y_pred_test)\n",
    "print(conf_matrix)\n",
    "print(class_report)"
   ]
  },
  {
   "cell_type": "code",
   "execution_count": null,
   "id": "51a3106f",
   "metadata": {},
   "outputs": [],
   "source": []
  },
  {
   "cell_type": "code",
   "execution_count": 56,
   "id": "00ad6fec",
   "metadata": {},
   "outputs": [
    {
     "data": {
      "text/html": [
       "<div>\n",
       "<style scoped>\n",
       "    .dataframe tbody tr th:only-of-type {\n",
       "        vertical-align: middle;\n",
       "    }\n",
       "\n",
       "    .dataframe tbody tr th {\n",
       "        vertical-align: top;\n",
       "    }\n",
       "\n",
       "    .dataframe thead th {\n",
       "        text-align: right;\n",
       "    }\n",
       "</style>\n",
       "<table border=\"1\" class=\"dataframe\">\n",
       "  <thead>\n",
       "    <tr style=\"text-align: right;\">\n",
       "      <th></th>\n",
       "      <th>Accuracy</th>\n",
       "      <th>reacall</th>\n",
       "      <th>precision</th>\n",
       "      <th>f1_score</th>\n",
       "      <th>model</th>\n",
       "    </tr>\n",
       "  </thead>\n",
       "  <tbody>\n",
       "    <tr>\n",
       "      <th>3</th>\n",
       "      <td>0.922565</td>\n",
       "      <td>0.9163</td>\n",
       "      <td>0.897842</td>\n",
       "      <td>0.906977</td>\n",
       "      <td>Decision Tree</td>\n",
       "    </tr>\n",
       "  </tbody>\n",
       "</table>\n",
       "</div>"
      ],
      "text/plain": [
       "   Accuracy  reacall  precision  f1_score          model\n",
       "3  0.922565   0.9163   0.897842  0.906977  Decision Tree"
      ]
     },
     "execution_count": 56,
     "metadata": {},
     "output_type": "execute_result"
    }
   ],
   "source": [
    "from sklearn.metrics import recall_score, precision_score, f1_score, accuracy_score\n",
    "result = pd.DataFrame({\"Accuracy\":accuracy_score(y_test, y_pred_test),\n",
    "                      \"reacall\":recall_score(y_test, y_pred_test),\n",
    "                      \"precision\":precision_score(y_test, y_pred_test),\n",
    "                      \"f1_score\":f1_score(y_test, y_pred_test),\n",
    "                      \"model\":[\"Decision Tree\"]}, index=[3])\n",
    "result"
   ]
  },
  {
   "cell_type": "code",
   "execution_count": 57,
   "id": "25e865e8",
   "metadata": {},
   "outputs": [],
   "source": [
    "\n",
    "result.to_excel(\"result_dt.xlsx\", sheet_name=\"dt\")"
   ]
  },
  {
   "cell_type": "code",
   "execution_count": 58,
   "id": "3a426809",
   "metadata": {},
   "outputs": [
    {
     "data": {
      "text/html": [
       "<div>\n",
       "<style scoped>\n",
       "    .dataframe tbody tr th:only-of-type {\n",
       "        vertical-align: middle;\n",
       "    }\n",
       "\n",
       "    .dataframe tbody tr th {\n",
       "        vertical-align: top;\n",
       "    }\n",
       "\n",
       "    .dataframe thead th {\n",
       "        text-align: right;\n",
       "    }\n",
       "</style>\n",
       "<table border=\"1\" class=\"dataframe\">\n",
       "  <thead>\n",
       "    <tr style=\"text-align: right;\">\n",
       "      <th></th>\n",
       "      <th>gender</th>\n",
       "      <th>age</th>\n",
       "      <th>hypertension</th>\n",
       "      <th>heart_disease</th>\n",
       "      <th>ever_married</th>\n",
       "      <th>Residence_type</th>\n",
       "      <th>avg_glucose_level</th>\n",
       "      <th>bmi</th>\n",
       "      <th>smoking_status</th>\n",
       "      <th>work_type_Govt_job</th>\n",
       "      <th>work_type_Never_worked</th>\n",
       "      <th>work_type_Private</th>\n",
       "      <th>work_type_Self-employed</th>\n",
       "      <th>work_type_children</th>\n",
       "    </tr>\n",
       "  </thead>\n",
       "  <tbody>\n",
       "    <tr>\n",
       "      <th>5931</th>\n",
       "      <td>0</td>\n",
       "      <td>72.405410</td>\n",
       "      <td>0</td>\n",
       "      <td>0</td>\n",
       "      <td>1</td>\n",
       "      <td>0</td>\n",
       "      <td>80.719997</td>\n",
       "      <td>28.877040</td>\n",
       "      <td>1</td>\n",
       "      <td>0</td>\n",
       "      <td>0</td>\n",
       "      <td>0</td>\n",
       "      <td>0</td>\n",
       "      <td>0</td>\n",
       "    </tr>\n",
       "    <tr>\n",
       "      <th>343</th>\n",
       "      <td>1</td>\n",
       "      <td>64.000000</td>\n",
       "      <td>0</td>\n",
       "      <td>0</td>\n",
       "      <td>1</td>\n",
       "      <td>1</td>\n",
       "      <td>239.640000</td>\n",
       "      <td>34.600000</td>\n",
       "      <td>1</td>\n",
       "      <td>1</td>\n",
       "      <td>0</td>\n",
       "      <td>0</td>\n",
       "      <td>0</td>\n",
       "      <td>0</td>\n",
       "    </tr>\n",
       "    <tr>\n",
       "      <th>3103</th>\n",
       "      <td>1</td>\n",
       "      <td>66.000000</td>\n",
       "      <td>0</td>\n",
       "      <td>0</td>\n",
       "      <td>1</td>\n",
       "      <td>0</td>\n",
       "      <td>88.830000</td>\n",
       "      <td>29.100000</td>\n",
       "      <td>0</td>\n",
       "      <td>0</td>\n",
       "      <td>0</td>\n",
       "      <td>1</td>\n",
       "      <td>0</td>\n",
       "      <td>0</td>\n",
       "    </tr>\n",
       "    <tr>\n",
       "      <th>5161</th>\n",
       "      <td>0</td>\n",
       "      <td>77.777702</td>\n",
       "      <td>0</td>\n",
       "      <td>0</td>\n",
       "      <td>0</td>\n",
       "      <td>0</td>\n",
       "      <td>81.146961</td>\n",
       "      <td>29.189071</td>\n",
       "      <td>0</td>\n",
       "      <td>0</td>\n",
       "      <td>0</td>\n",
       "      <td>1</td>\n",
       "      <td>0</td>\n",
       "      <td>0</td>\n",
       "    </tr>\n",
       "    <tr>\n",
       "      <th>7977</th>\n",
       "      <td>1</td>\n",
       "      <td>58.397029</td>\n",
       "      <td>0</td>\n",
       "      <td>0</td>\n",
       "      <td>0</td>\n",
       "      <td>0</td>\n",
       "      <td>92.481040</td>\n",
       "      <td>32.774208</td>\n",
       "      <td>0</td>\n",
       "      <td>0</td>\n",
       "      <td>0</td>\n",
       "      <td>1</td>\n",
       "      <td>0</td>\n",
       "      <td>0</td>\n",
       "    </tr>\n",
       "  </tbody>\n",
       "</table>\n",
       "</div>"
      ],
      "text/plain": [
       "      gender        age  hypertension  heart_disease  ever_married  \\\n",
       "5931       0  72.405410             0              0             1   \n",
       "343        1  64.000000             0              0             1   \n",
       "3103       1  66.000000             0              0             1   \n",
       "5161       0  77.777702             0              0             0   \n",
       "7977       1  58.397029             0              0             0   \n",
       "\n",
       "      Residence_type  avg_glucose_level        bmi  smoking_status  \\\n",
       "5931               0          80.719997  28.877040               1   \n",
       "343                1         239.640000  34.600000               1   \n",
       "3103               0          88.830000  29.100000               0   \n",
       "5161               0          81.146961  29.189071               0   \n",
       "7977               0          92.481040  32.774208               0   \n",
       "\n",
       "      work_type_Govt_job  work_type_Never_worked  work_type_Private  \\\n",
       "5931                   0                       0                  0   \n",
       "343                    1                       0                  0   \n",
       "3103                   0                       0                  1   \n",
       "5161                   0                       0                  1   \n",
       "7977                   0                       0                  1   \n",
       "\n",
       "      work_type_Self-employed  work_type_children  \n",
       "5931                        0                   0  \n",
       "343                         0                   0  \n",
       "3103                        0                   0  \n",
       "5161                        0                   0  \n",
       "7977                        0                   0  "
      ]
     },
     "execution_count": 58,
     "metadata": {},
     "output_type": "execute_result"
    }
   ],
   "source": [
    "x_train.head()"
   ]
  },
  {
   "cell_type": "raw",
   "id": "3c748308",
   "metadata": {},
   "source": [
    "select_gender = {\"Male\":1, \"Female\":0}\n",
    "smoker_select = {\"never smoked\":0, \"formerly smoked\":1, \"smokes\":2}\n",
    "Residence_type = {\"Urban\":1, \"Rural\":0}\n",
    "\n",
    "hypertension_select = {\"Yes\":1, \"No\":0}\n",
    "heart_disease_select = {\"Yes\":1, \"No\":0}\n",
    "ever_married_select = {\"Yes\":1, \"No\":0}"
   ]
  },
  {
   "cell_type": "code",
   "execution_count": 140,
   "id": "2ab0a3ea",
   "metadata": {},
   "outputs": [
    {
     "data": {
      "text/plain": [
       "Index(['gender', 'age', 'hypertension', 'heart_disease', 'ever_married',\n",
       "       'Residence_type', 'avg_glucose_level', 'bmi', 'smoking_status',\n",
       "       'work_type_Govt_job', 'work_type_Never_worked', 'work_type_Private',\n",
       "       'work_type_Self-employed', 'work_type_children'],\n",
       "      dtype='object')"
      ]
     },
     "execution_count": 140,
     "metadata": {},
     "output_type": "execute_result"
    }
   ],
   "source": [
    "columns"
   ]
  },
  {
   "cell_type": "code",
   "execution_count": 89,
   "id": "fdb44a00",
   "metadata": {},
   "outputs": [],
   "source": [
    "json_data = {\"select_gender\":{\"Male\":1, \"Female\":0}, \n",
    "             \"smoker_select\": {\"never smoked\":0, \"formerly smoked\":1, \"smokes\":2}, \n",
    "             \"Residence_type\": {\"Urban\":1, \"Rural\":0},\n",
    "             \"hypertension_select\" : {\"Yes\":1, \"No\":0},\n",
    "             \"heart_disease_select\": {\"Yes\":1, \"No\":0},\n",
    "             \"ever_married_select\" : {\"Yes\":1, \"No\":0},\n",
    "             \"work_type\":[\"Govt_job\", \"Never_worked\", \"Private\", \"Self-employed\", \"children\"]}"
   ]
  },
  {
   "cell_type": "code",
   "execution_count": 125,
   "id": "a0a6b963",
   "metadata": {},
   "outputs": [],
   "source": [
    "age               = 76\n",
    "avg_glucose_level = 194.3\n",
    "bmi               = 30\n",
    " \n",
    "gender            = \"Male\"\n",
    "\n",
    "hypertension      = \"Yes\"\n",
    "heart_disease     = \"No\"\n",
    "ever_married     = \"Yes\"\n",
    "\n",
    "Residence         = \"Urban\"\n",
    "smoker = \"formerly smoked\"\n",
    "work_type         = \"Self-employed\""
   ]
  },
  {
   "cell_type": "code",
   "execution_count": 126,
   "id": "b6192088",
   "metadata": {},
   "outputs": [
    {
     "data": {
      "text/plain": [
       "14"
      ]
     },
     "execution_count": 126,
     "metadata": {},
     "output_type": "execute_result"
    }
   ],
   "source": [
    "len(x_train.columns)"
   ]
  },
  {
   "cell_type": "code",
   "execution_count": 127,
   "id": "04394bf3",
   "metadata": {},
   "outputs": [
    {
     "data": {
      "text/plain": [
       "array([0., 0., 0., 0., 0., 0., 0., 0., 0., 0., 0., 0., 0., 0.])"
      ]
     },
     "execution_count": 127,
     "metadata": {},
     "output_type": "execute_result"
    }
   ],
   "source": [
    "test_array = np.zeros(14)\n",
    "test_array"
   ]
  },
  {
   "cell_type": "code",
   "execution_count": 139,
   "id": "45673b4e",
   "metadata": {},
   "outputs": [],
   "source": [
    "test_array[0]  = json_data[\"select_gender\"][gender]\n",
    "test_array[1]  = age\n",
    "test_array[2]  = json_data[\"hypertension_select\"][hypertension]\n",
    "test_array[3]  = json_data[\"heart_disease_select\"][heart_disease]\n",
    "test_array[4]  = json_data[\"ever_married_select\"][ever_married]\n",
    "test_array[5]  = json_data[\"Residence_type\"][Residence]\n",
    "test_array[6]  = avg_glucose_level\n",
    "test_array[7]  = bmi\n",
    "test_array[8]  = json_data[\"smoker_select\"][smoker]\n",
    "\n",
    "job = \"work_type_\"+work_type\n",
    "idx = np.where(json_data[\"work_type\"] == job)\n",
    "test_array[idx]  = 1 "
   ]
  },
  {
   "cell_type": "code",
   "execution_count": 129,
   "id": "aefb926e",
   "metadata": {},
   "outputs": [
    {
     "data": {
      "text/plain": [
       "array([  1. ,  76. ,   1. ,   0. ,   1. ,   1. , 194.3,  30. ,   1. ,\n",
       "         0. ,   0. ,   0. ,   1. ,   0. ])"
      ]
     },
     "execution_count": 129,
     "metadata": {},
     "output_type": "execute_result"
    }
   ],
   "source": [
    "test_array"
   ]
  },
  {
   "cell_type": "code",
   "execution_count": 141,
   "id": "914f58f9",
   "metadata": {},
   "outputs": [
    {
     "data": {
      "text/plain": [
       "1"
      ]
     },
     "execution_count": 141,
     "metadata": {},
     "output_type": "execute_result"
    }
   ],
   "source": [
    "dt_model.predict([test_array])[0]"
   ]
  },
  {
   "cell_type": "code",
   "execution_count": 132,
   "id": "20eaab48",
   "metadata": {},
   "outputs": [],
   "source": [
    "import json\n",
    "import pickle"
   ]
  },
  {
   "cell_type": "code",
   "execution_count": 133,
   "id": "62d2cf4d",
   "metadata": {},
   "outputs": [],
   "source": [
    "with open(\"dt_model.pkl\", \"wb\") as f:\n",
    "    pickle.dump(dt_model, f)"
   ]
  },
  {
   "cell_type": "code",
   "execution_count": 134,
   "id": "595939dc",
   "metadata": {},
   "outputs": [],
   "source": [
    "with open(\"json_data.json\", \"w\") as f:\n",
    "    json.dump(json_data, f)"
   ]
  }
 ],
 "metadata": {
  "kernelspec": {
   "display_name": "Python 3 (ipykernel)",
   "language": "python",
   "name": "python3"
  },
  "language_info": {
   "codemirror_mode": {
    "name": "ipython",
    "version": 3
   },
   "file_extension": ".py",
   "mimetype": "text/x-python",
   "name": "python",
   "nbconvert_exporter": "python",
   "pygments_lexer": "ipython3",
   "version": "3.9.13"
  }
 },
 "nbformat": 4,
 "nbformat_minor": 5
}
